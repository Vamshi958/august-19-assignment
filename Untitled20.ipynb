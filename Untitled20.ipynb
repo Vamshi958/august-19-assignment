{
 "cells": [
  {
   "cell_type": "markdown",
   "id": "49b2bcaf",
   "metadata": {},
   "source": [
    "TOPIC: Python Basics Variable"
   ]
  },
  {
   "cell_type": "code",
   "execution_count": 12,
   "id": "519dbebf",
   "metadata": {},
   "outputs": [],
   "source": [
    "#1 swap variables\n",
    "x = 2\n",
    "y = 3\n",
    "x=x+1\n",
    "y=x-1\n"
   ]
  },
  {
   "cell_type": "code",
   "execution_count": 13,
   "id": "ebf4177c",
   "metadata": {},
   "outputs": [
    {
     "data": {
      "text/plain": [
       "3"
      ]
     },
     "execution_count": 13,
     "metadata": {},
     "output_type": "execute_result"
    }
   ],
   "source": [
    "x"
   ]
  },
  {
   "cell_type": "code",
   "execution_count": 14,
   "id": "9a28a02c",
   "metadata": {},
   "outputs": [
    {
     "data": {
      "text/plain": [
       "2"
      ]
     },
     "execution_count": 14,
     "metadata": {},
     "output_type": "execute_result"
    }
   ],
   "source": [
    "y"
   ]
  },
  {
   "cell_type": "markdown",
   "id": "ef8fe39b",
   "metadata": {},
   "source": [
    "Other method"
   ]
  },
  {
   "cell_type": "code",
   "execution_count": 15,
   "id": "a8228837",
   "metadata": {},
   "outputs": [],
   "source": [
    "x=2\n",
    "y=3\n",
    "x=y\n",
    "y=x-1"
   ]
  },
  {
   "cell_type": "code",
   "execution_count": 16,
   "id": "4176a8ae",
   "metadata": {},
   "outputs": [
    {
     "data": {
      "text/plain": [
       "3"
      ]
     },
     "execution_count": 16,
     "metadata": {},
     "output_type": "execute_result"
    }
   ],
   "source": [
    "x"
   ]
  },
  {
   "cell_type": "code",
   "execution_count": 18,
   "id": "47775d0c",
   "metadata": {},
   "outputs": [
    {
     "data": {
      "text/plain": [
       "2"
      ]
     },
     "execution_count": 18,
     "metadata": {},
     "output_type": "execute_result"
    }
   ],
   "source": [
    "y"
   ]
  },
  {
   "cell_type": "markdown",
   "id": "7d8df88c",
   "metadata": {},
   "source": [
    "2.AREA OF TRIANGLE"
   ]
  },
  {
   "cell_type": "code",
   "execution_count": 5,
   "id": "070b4d88",
   "metadata": {},
   "outputs": [
    {
     "name": "stdout",
     "output_type": "stream",
     "text": [
      "enter length value:4\n"
     ]
    }
   ],
   "source": [
    "#area of triangle\n",
    "length = float(input(\"enter length value:\"))\n",
    "\n"
   ]
  },
  {
   "cell_type": "code",
   "execution_count": 6,
   "id": "20918a5b",
   "metadata": {},
   "outputs": [
    {
     "name": "stdout",
     "output_type": "stream",
     "text": [
      "enter width value:2\n"
     ]
    }
   ],
   "source": [
    "width = float(input(\"enter width value:\"))"
   ]
  },
  {
   "cell_type": "code",
   "execution_count": 7,
   "id": "78333d15",
   "metadata": {},
   "outputs": [
    {
     "name": "stdout",
     "output_type": "stream",
     "text": [
      "area: 4.0\n"
     ]
    }
   ],
   "source": [
    "area  = (length * width) / 2\n",
    "print(\"area:\",area)"
   ]
  },
  {
   "cell_type": "markdown",
   "id": "2962c4dd",
   "metadata": {},
   "source": [
    "3.CELCIUS TO FAHRENHEIT"
   ]
  },
  {
   "cell_type": "code",
   "execution_count": 12,
   "id": "609b7d34",
   "metadata": {},
   "outputs": [
    {
     "name": "stdout",
     "output_type": "stream",
     "text": [
      "enter temperature in celcius:25\n"
     ]
    }
   ],
   "source": [
    "Celcius = float(input(\"enter temperature in celcius:\"))"
   ]
  },
  {
   "cell_type": "code",
   "execution_count": 13,
   "id": "36127bfc",
   "metadata": {},
   "outputs": [
    {
     "name": "stdout",
     "output_type": "stream",
     "text": [
      "temperature in fahrenheit: 77.0\n"
     ]
    }
   ],
   "source": [
    "fahrenheit = (Celcius * 9/5)+32\n",
    "print(\"temperature in fahrenheit:\",fahrenheit)"
   ]
  },
  {
   "cell_type": "markdown",
   "id": "8b1e739a",
   "metadata": {},
   "source": [
    "II.String based questions"
   ]
  },
  {
   "cell_type": "code",
   "execution_count": 22,
   "id": "730f2d54",
   "metadata": {},
   "outputs": [
    {
     "name": "stdout",
     "output_type": "stream",
     "text": [
      "vamshi\n",
      "6\n"
     ]
    }
   ],
   "source": [
    "# 1. length of string\n",
    "s1 = str(input())\n",
    "length = len(s1)\n",
    "print(length)"
   ]
  },
  {
   "cell_type": "code",
   "execution_count": null,
   "id": "9572aab3",
   "metadata": {},
   "outputs": [],
   "source": []
  },
  {
   "cell_type": "code",
   "execution_count": 5,
   "id": "5f57b1c8",
   "metadata": {},
   "outputs": [
    {
     "name": "stdout",
     "output_type": "stream",
     "text": [
      "vamshi\n",
      "2\n"
     ]
    }
   ],
   "source": [
    "# 2. count vowel\n",
    "string = str(input())\n",
    "vowels = \"aeiou\"\n",
    "vowel_count=0\n",
    "for char in string:\n",
    "    if char in vowels:\n",
    "        vowel_count +=1\n",
    "print(vowel_count)\n"
   ]
  },
  {
   "cell_type": "code",
   "execution_count": 10,
   "id": "5c95f880",
   "metadata": {},
   "outputs": [
    {
     "data": {
      "text/plain": [
       "'ihsmav'"
      ]
     },
     "execution_count": 10,
     "metadata": {},
     "output_type": "execute_result"
    }
   ],
   "source": [
    "#3.reverse the given string\n",
    "string = \"vamshi\"\n",
    "string[::-1]"
   ]
  },
  {
   "cell_type": "code",
   "execution_count": 20,
   "id": "39b9051e",
   "metadata": {},
   "outputs": [
    {
     "name": "stdout",
     "output_type": "stream",
     "text": [
      "va\n",
      "not palindrome\n"
     ]
    }
   ],
   "source": [
    "#4 check if string is palindrome or not\n",
    "def palindrome(s1):\n",
    "    if(s1==s1[::-1]):\n",
    "        return \"palindrome\"\n",
    "    else:\n",
    "        return \"not palindrome\"\n",
    "s1 = str(input())\n",
    "print(palindrome(s1))\n"
   ]
  },
  {
   "cell_type": "code",
   "execution_count": 23,
   "id": "4742f8f8",
   "metadata": {},
   "outputs": [
    {
     "name": "stdout",
     "output_type": "stream",
     "text": [
      "v a m s h i\n"
     ]
    },
    {
     "data": {
      "text/plain": [
       "'vamshi'"
      ]
     },
     "execution_count": 23,
     "metadata": {},
     "output_type": "execute_result"
    }
   ],
   "source": [
    "#5 remove all spaces\n",
    "s1 = str(input())\n",
    "s1[0::2]"
   ]
  },
  {
   "cell_type": "code",
   "execution_count": null,
   "id": "80086f99",
   "metadata": {},
   "outputs": [],
   "source": []
  }
 ],
 "metadata": {
  "kernelspec": {
   "display_name": "Python 3",
   "language": "python",
   "name": "python3"
  },
  "language_info": {
   "codemirror_mode": {
    "name": "ipython",
    "version": 3
   },
   "file_extension": ".py",
   "mimetype": "text/x-python",
   "name": "python",
   "nbconvert_exporter": "python",
   "pygments_lexer": "ipython3",
   "version": "3.8.8"
  }
 },
 "nbformat": 4,
 "nbformat_minor": 5
}
